{
 "cells": [
  {
   "cell_type": "code",
   "execution_count": 2,
   "id": "ff30a156-de85-43a9-aece-cfca765b21a0",
   "metadata": {},
   "outputs": [
    {
     "name": "stdout",
     "output_type": "stream",
     "text": [
      "Python:Exercises::PHP:exercises:\n"
     ]
    }
   ],
   "source": [
    "import re\n",
    "\n",
    "\n",
    "input_string = 'Python Exercises, PHP exercises.'\n",
    "\n",
    "\n",
    "modified_string = re.sub(r'[ ,.]', ':', input_string)\n",
    "\n",
    "print(modified_string)  "
   ]
  },
  {
   "cell_type": "code",
   "execution_count": 3,
   "id": "fab5feb6-bf42-425a-ac40-055c18cea66e",
   "metadata": {},
   "outputs": [
    {
     "name": "stdout",
     "output_type": "stream",
     "text": [
      "         SUMMARY\n",
      "0    hello world\n",
      "1     XXXXX test\n",
      "2  four five six\n"
     ]
    }
   ],
   "source": [
    "import pandas as pd\n",
    "import re\n",
    "\n",
    "data = {'SUMMARY': ['hello, world!', 'XXXXX test', '123four, five:; six...']}\n",
    "df = pd.DataFrame(data)\n",
    "\n",
    "def clean_text(text):\n",
    "    \n",
    "    return re.sub(r'[^a-zA-Z\\s]', '', text)\n",
    "\n",
    "\n",
    "df['SUMMARY'] = df['SUMMARY'].apply(clean_text)\n",
    "\n",
    "print(df)"
   ]
  },
  {
   "cell_type": "code",
   "execution_count": 5,
   "id": "18596b6d-43e4-4c6e-a147-7c3ee149c525",
   "metadata": {},
   "outputs": [
    {
     "name": "stdout",
     "output_type": "stream",
     "text": [
      "['doing', 'Datascience', 'course', 'DATATRAINED', 'free', 'time']\n"
     ]
    }
   ],
   "source": [
    "import re\n",
    "\n",
    "def find_long_words(input_string):\n",
    "    \n",
    "    pattern = re.compile(r'\\b\\w{4,}\\b')\n",
    "    \n",
    "    \n",
    "    long_words = pattern.findall(input_string)\n",
    "    \n",
    "    return long_words\n",
    "\n",
    "\n",
    "input_text = \"I am doing Datascience course at DATATRAINED in my free time.\"\n",
    "long_words = find_long_words(input_text)\n",
    "print(long_words)"
   ]
  },
  {
   "cell_type": "code",
   "execution_count": 6,
   "id": "6edc80a2-a274-4398-b7e6-e7239837e0b0",
   "metadata": {},
   "outputs": [
    {
     "name": "stdout",
     "output_type": "stream",
     "text": [
      "Found words: ['The', 'quick', 'brown', 'fox', 'jumps', 'over', 'the', 'lazy', 'dog', 'and', 'fun']\n"
     ]
    }
   ],
   "source": [
    "import re\n",
    "\n",
    "def find_words(input_string):\n",
    "    \n",
    "    pattern = re.compile(r'\\b\\w{3,5}\\b')\n",
    "    \n",
    "    \n",
    "    matches = pattern.findall(input_string)\n",
    "    \n",
    "    return matches\n",
    "\n",
    "\n",
    "if __name__ == \"__main__\":\n",
    "    test_string = \"The quick brown fox jumps over the lazy dog and it is fun.\"\n",
    "    words = find_words(test_string)\n",
    "    print(\"Found words:\", words)"
   ]
  },
  {
   "cell_type": "code",
   "execution_count": 29,
   "id": "5e0e73ae-9e10-4598-8883-69737811d7bf",
   "metadata": {},
   "outputs": [
    {
     "ename": "IndentationError",
     "evalue": "unexpected indent (740801131.py, line 11)",
     "output_type": "error",
     "traceback": [
      "\u001b[1;36m  Cell \u001b[1;32mIn[29], line 11\u001b[1;36m\u001b[0m\n\u001b[1;33m    if __name__ == \"__main__\" :\u001b[0m\n\u001b[1;37m    ^\u001b[0m\n\u001b[1;31mIndentationError\u001b[0m\u001b[1;31m:\u001b[0m unexpected indent\n"
     ]
    }
   ],
   "source": [
    "import re\n",
    "\n",
    "def remove_parentheses(strings):\n",
    "    \n",
    "    pattern = re.compile(r'\\(.*?\\)')  \n",
    "    \n",
    "    \n",
    "    cleaned_strings = [pattern.sub('', string).strip() for string in strings]\n",
    "    \n",
    "    return cleaned_strings\n",
    "      if __name__ == \"__main__\" :\n",
    "    example_list = [\"example (.com)\", \"hr@fliprobo (.com)\", \"github (.com)\", \"Hello (Data Science World)\", \"Data (Scientist)\"]\n",
    "    \n",
    "    result = remove_parentheses(example_list)\n",
    "    print(result)\n",
    "  "
   ]
  },
  {
   "cell_type": "code",
   "execution_count": 15,
   "id": "370b706f-e50f-4489-a9e8-233f4fbf1103",
   "metadata": {},
   "outputs": [],
   "source": [
    "import re\n",
    "\n",
    "def remove_parentheses_content(input_file, output_file):\n",
    "    \n",
    "    pattern = r'\\(.*?\\)'\n",
    "\n",
    "    try:\n",
    "\n",
    "        with open(input_file, 'r') as file:\n",
    "            content = file.read()\n",
    "\n",
    "       \n",
    "        modified_content = re.sub(pattern, '', content)\n",
    "\n",
    "        \n",
    "        with open(output_file, 'w') as file:\n",
    "            file.write(modified_content)\n",
    "\n",
    "        print(f\"Content without parentheses has been written to {output_file}\")\n",
    "\n",
    "    except FileNotFoundError:\n",
    "        print(f\"The file {input_file} does not exist.\")\n",
    "    except Exception as e:\n",
    "        print(f\"An error occurred: {e}\")\n",
    "\n",
    "\n"
   ]
  },
  {
   "cell_type": "code",
   "execution_count": 18,
   "id": "1f7b140b-9a3d-443b-9090-ec96ca99c685",
   "metadata": {},
   "outputs": [
    {
     "name": "stdout",
     "output_type": "stream",
     "text": [
      "['Importance', 'Of', 'Regular', 'Expressions', 'In', 'Python']\n"
     ]
    }
   ],
   "source": [
    "import re\n",
    "\n",
    "def split_uppercase(input_string):\n",
    "    \n",
    "    return re.findall(r'[A-Z][^A-Z]*', input_string)\n",
    "\n",
    "\n",
    "input_string = \"ImportanceOfRegularExpressionsInPython\"\n",
    "result = split_uppercase(input_string)\n",
    "print(result)"
   ]
  },
  {
   "cell_type": "code",
   "execution_count": 20,
   "id": "86195ff2-a03b-4cb0-a6d7-d6c1f0e504e1",
   "metadata": {},
   "outputs": [
    {
     "name": "stdout",
     "output_type": "stream",
     "text": [
      "RegularExpression 1IsAn 2ImportantTopic 3InPython\n"
     ]
    }
   ],
   "source": [
    "import re\n",
    "\n",
    "def insert_spaces(text):\n",
    "    \"\"\"\n",
    "    Args:\n",
    "    text (str): The input string containing words.\n",
    "\n",
    "    Returns:\n",
    "    str: The modified string with spaces inserted.\n",
    "    \"\"\"\n",
    "    \n",
    "    modified_text = re.sub(r'(?<!\\s)(?=\\d)', ' ', text)\n",
    "    return modified_text\n",
    "\n",
    "\n",
    "input_text = \"RegularExpression1IsAn2ImportantTopic3InPython\"\n",
    "output_text = insert_spaces(input_text)\n",
    "print(output_text)"
   ]
  },
  {
   "cell_type": "code",
   "execution_count": 22,
   "id": "35a63fce-31af-4bb7-afba-195da6bc2fc8",
   "metadata": {},
   "outputs": [
    {
     "name": "stdout",
     "output_type": "stream",
     "text": [
      "Regular Expression1 Is An2 Important Topic3 In Python\n"
     ]
    }
   ],
   "source": [
    "import re\n",
    "\n",
    "def insert_spaces(text):\n",
    "    \"\"\"\n",
    "    \n",
    "    \n",
    "    Parameters:\n",
    "    text (str): The input string to process.\n",
    "    \n",
    "    Returns:\n",
    "    str: The modified string with spaces inserted.\n",
    "    \"\"\"\n",
    "    \n",
    "    modified_text = re.sub(r'(?<=[a-z])(?=[A-Z])|(?<=[A-Z])(?=\\d)|(?<=[\\d])(?=[A-Z])', ' ', text)\n",
    "    \n",
    "    return modified_text\n",
    "\n",
    "\n",
    "input_text = \"RegularExpression1IsAn2ImportantTopic3InPython\"\n",
    "output_text = insert_spaces(input_text)\n",
    "print(output_text)  "
   ]
  },
  {
   "cell_type": "code",
   "execution_count": 23,
   "id": "27ef4b71-dbda-4db1-836a-4eee86502af1",
   "metadata": {},
   "outputs": [],
   "source": [
    "import re\n",
    "\n",
    "def is_valid_string(input_string):\n",
    "    \n",
    "    pattern = r'^[A-Za-z0-9_]+$'\n",
    "    \n",
    "    \n",
    "    if re.match(pattern, input_string):\n",
    "        return True\n",
    "    else:\n",
    "        return False"
   ]
  },
  {
   "cell_type": "code",
   "execution_count": 26,
   "id": "fdb406d0-e316-491a-832c-c96af472d652",
   "metadata": {},
   "outputs": [
    {
     "name": "stdin",
     "output_type": "stream",
     "text": [
      "Enter a string:  \"12344\"\n",
      "Enter a number to check if the string starts with it:  1\n"
     ]
    },
    {
     "name": "stdout",
     "output_type": "stream",
     "text": [
      "The string does not start with the number 1.\n"
     ]
    }
   ],
   "source": [
    "import re\n",
    "\n",
    "def starts_with_number(string, number):\n",
    "    \n",
    "    pattern = f\"^{number}\"\n",
    "    \n",
    "    if re.match(pattern, string):\n",
    "        return True\n",
    "    else:\n",
    "        return False\n",
    "\n",
    "\n",
    "if __name__ == \"__main__\":\n",
    "    test_string = input(\"Enter a string: \")\n",
    "    specific_number = input(\"Enter a number to check if the string starts with it: \")\n",
    "    \n",
    "    if starts_with_number(test_string, specific_number):\n",
    "        print(f\"The string starts with the number {specific_number}.\")\n",
    "    else:\n",
    "        print(f\"The string does not start with the number {specific_number}.\")"
   ]
  },
  {
   "cell_type": "code",
   "execution_count": 28,
   "id": "891df068-aa15-48e4-9358-2c809a6f23e5",
   "metadata": {},
   "outputs": [],
   "source": [
    "import re\n",
    "\n",
    "def remove_leading_zeros(ip_address):\n",
    "    pattern = r'\\b0+(\\d)'\n",
    "\n",
    "    \n",
    "    cleaned_ip = re.sub(pattern, r'\\1', ip_address)\n",
    "\n",
    "    \n",
    "    cleaned_ip = re.sub(r'\\b0+\\b', '0', cleaned_ip)\n",
    "\n",
    "    return cleaned_ip\n",
    "    "
   ]
  },
  {
   "cell_type": "code",
   "execution_count": null,
   "id": "eddc1099-fb8e-4a10-bb85-eae7e24e6413",
   "metadata": {},
   "outputs": [],
   "source": []
  }
 ],
 "metadata": {
  "kernelspec": {
   "display_name": "Python 3 (ipykernel)",
   "language": "python",
   "name": "python3"
  },
  "language_info": {
   "codemirror_mode": {
    "name": "ipython",
    "version": 3
   },
   "file_extension": ".py",
   "mimetype": "text/x-python",
   "name": "python",
   "nbconvert_exporter": "python",
   "pygments_lexer": "ipython3",
   "version": "3.11.7"
  }
 },
 "nbformat": 4,
 "nbformat_minor": 5
}
